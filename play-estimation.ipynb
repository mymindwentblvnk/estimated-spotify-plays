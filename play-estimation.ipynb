{
 "cells": [
  {
   "cell_type": "markdown",
   "metadata": {},
   "source": [
    "# Estimated Spotify Plays\n",
    "\n",
    "In this project I want to build a deep learning model that predicts how often I will listen to a song based on its audio features which can be retrieved via the [Spotify Web API](https://developer.spotify.com/documentation/web-api/reference/tracks/get-audio-features/).\n",
    "\n",
    "## The Dataset\n",
    "\n",
    "Let's have a look at the dataset I have to start with."
   ]
  },
  {
   "cell_type": "code",
   "execution_count": 1,
   "metadata": {},
   "outputs": [
    {
     "name": "stdout",
     "output_type": "stream",
     "text": [
      "hoergewohnheiten.csv  last_fm.csv\r\n"
     ]
    }
   ],
   "source": [
    "!ls dataset"
   ]
  },
  {
   "cell_type": "markdown",
   "metadata": {},
   "source": [
    "There are two CSV files which hold information about when (UTC timestamp) I did listen to a certain song (identifies via the combination of song title and artist name). One file is a export of [LastFM](https://mainstream.ghan.nl/export.html) the other one is from a side project I started a while ago which is called [Hoergewohnheiten](https://github.com/mymindwentblvnk/hoergewohnheiten)\n",
    "\n",
    "Let's see how files look like."
   ]
  },
  {
   "cell_type": "code",
   "execution_count": 2,
   "metadata": {},
   "outputs": [
    {
     "name": "stdout",
     "output_type": "stream",
     "text": [
      "uts,utc_time,artist,artist_mbid,album,album_mbid,track,track_mbid\r",
      "\r\n",
      "\"1486670769\",\"09 Feb 2017, 20:06\",\"Shy Glizzy\",\"21354007-a91f-4460-934d-12d389de3a2a\",\"Homieland, Vol. 2\",\"\",\"Woah\",\"\"\r",
      "\r\n",
      "\"1486658377\",\"09 Feb 2017, 16:39\",\"Dre\",\"9ccc0b15-6506-46ba-8bca-6e35d40ebfa7\",\"Rich & Lit\",\"\",\"5 Rounds\",\"\"\r",
      "\r\n",
      "\"1486658166\",\"09 Feb 2017, 16:36\",\"Dre\",\"9ccc0b15-6506-46ba-8bca-6e35d40ebfa7\",\"Rich & Lit\",\"\",\"Fine Ass Girls\",\"\"\r",
      "\r\n",
      "\"1486507369\",\"07 Feb 2017, 22:42\",\"Cosima\",\"dcf74737-7d5b-4847-acdb-9edec6a7cea1\",\"To Build A House\",\"\",\"To Build A House\",\"\"\r",
      "\r\n"
     ]
    }
   ],
   "source": [
    "!head -5 dataset/last_fm.csv"
   ]
  },
  {
   "cell_type": "code",
   "execution_count": 3,
   "metadata": {},
   "outputs": [
    {
     "name": "stdout",
     "output_type": "stream",
     "text": [
      "timestamp,title,artist,album\r\n",
      "1530516395,\"Ella, elle l'a - Remasterisé\",France Gall,Babacar ( Remasterisé)\r\n",
      "1530516323,Get Down,Junglepussy,Jp3\r\n",
      "1530516172,State of the Union,Junglepussy,Jp3\r\n",
      "1530516088,Jammin That Screw,Trae Tha Truth,48 Hours Later\r\n"
     ]
    }
   ],
   "source": [
    "!head -5 dataset/hoergewohnheiten.csv"
   ]
  },
  {
   "cell_type": "markdown",
   "metadata": {},
   "source": [
    "It loks like the LastFM export has a unique identifier but that does not help with the Hoergewohnheiten data. So now I want to build the following datastructure with help of Paul Lamere's [spotipy](https://github.com/plamere/spotipy) where every row represents one track:\n",
    "\n",
    "| tempo | valence | energy | ... | danceability | plays |\n",
    "|-------|---------|--------|-----|--------------|-------|\n",
    "| 98.30 | 0.523   | 0.993  | ... | 0.7350       | 12    |\n",
    "| 132.4 | 0.24    | 0.451  | ... | 0.99002      | 130   |\n",
    "| 78.0  | 0.9     | 0.56   | ... | 0.12502      | 2     |\n",
    "| ...   | ...     | ...    | ... | ...          | ...   |"
   ]
  },
  {
   "cell_type": "markdown",
   "metadata": {},
   "source": [
    "### Count plays per Track"
   ]
  },
  {
   "cell_type": "code",
   "execution_count": 4,
   "metadata": {},
   "outputs": [],
   "source": [
    "import csv\n",
    "from collections import defaultdict\n",
    "\n",
    "splitter = '#*#*#*#*#*#*#'\n",
    "play_data_dict = defaultdict(int)\n",
    "\n",
    "with open('dataset/hoergewohnheiten.csv', 'r') as hoergewohnheiten_in:\n",
    "    reader = csv.DictReader(hoergewohnheiten_in)\n",
    "    for row in reader:\n",
    "        temp_identifier = \"{artist}{splitter}{title}\".format(title=row['title'],\n",
    "                                                             artist=row['artist'],\n",
    "                                                             splitter=splitter)\n",
    "        play_data_dict[temp_identifier] += 1\n",
    "        \n",
    "with open('dataset/last_fm.csv', 'r') as last_fm_in:\n",
    "    reader = csv.DictReader(last_fm_in)\n",
    "    for row in reader:\n",
    "        temp_identifier = \"{artist}{splitter}{title}\".format(title=row['track'],\n",
    "                                                             artist=row['artist'],\n",
    "                                                             splitter=splitter)\n",
    "        play_data_dict[temp_identifier] += 1\n"
   ]
  },
  {
   "cell_type": "code",
   "execution_count": 5,
   "metadata": {},
   "outputs": [],
   "source": [
    "play_data = list(\n",
    "    zip(\n",
    "        list([k.split(splitter) for k in play_data_dict.keys()]), \n",
    "        list(play_data_dict.values())\n",
    "    )\n",
    ")"
   ]
  },
  {
   "cell_type": "code",
   "execution_count": 11,
   "metadata": {},
   "outputs": [
    {
     "name": "stdout",
     "output_type": "stream",
     "text": [
      "21501 plays found.\n",
      "(['France Gall', \"Ella, elle l'a - Remasterisé\"], 2)\n",
      "(['Junglepussy', 'Get Down'], 1)\n",
      "(['Junglepussy', 'State of the Union'], 1)\n",
      "(['Trae Tha Truth', 'Jammin That Screw'], 5)\n",
      "(['Faithless', 'Insomnia'], 9)\n",
      "(['Faithless', 'God Is a DJ - Radio Mix'], 2)\n",
      "(['DJ Bobo', 'Everybody'], 6)\n",
      "(['Robin S', 'Show Me Love'], 1)\n",
      "(['Ricky Martin', \"La Copa de la Vida (La Cancion Oficial de la Copa Mundial, Francia '98) - Spanglish Radio Edit\"], 1)\n",
      "(['Members Of Mayday', 'Sonic Empire - Short Mix'], 1)\n"
     ]
    }
   ],
   "source": [
    "print(len(play_data), \"plays found.\")\n",
    "for i in range(10):\n",
    "    print(play_data[i])"
   ]
  },
  {
   "cell_type": "markdown",
   "metadata": {},
   "source": [
    "### Get Spotify information from API"
   ]
  },
  {
   "cell_type": "code",
   "execution_count": 12,
   "metadata": {},
   "outputs": [],
   "source": [
    "from spotipy import Spotify\n",
    "import spotipy.util\n",
    "\n",
    "try:\n",
    "    import spotify_settings\n",
    "    user_name = spotify_settings.USER_NAME\n",
    "    client_id = spotify_settings.CLIENT_ID\n",
    "    client_secret = spotify_settings.CLIENT_SECRET\n",
    "    redirect_uri = spotify_settings.REDIRECT_URI\n",
    "except ImportError:\n",
    "    user_name = None\n",
    "    client_id = None\n",
    "    client_secret = None\n",
    "    redirect_uri = None\n",
    "\n",
    "token = spotipy.util.prompt_for_user_token(\n",
    "    user_name,\n",
    "    scope='user-library-read',\n",
    "    client_id=client_id,\n",
    "    client_secret=client_secret,\n",
    "    redirect_uri=redirect_uri\n",
    ")\n",
    "spotify_client = Spotify(auth=token)"
   ]
  },
  {
   "cell_type": "code",
   "execution_count": 13,
   "metadata": {},
   "outputs": [],
   "source": [
    "play_data_with_id = dict()\n",
    "\n",
    "for play in play_data[:10]:  # TODO Remove slicing\n",
    "    q = '{} {}'.format(play[0][1], play[0][0])\n",
    "    result = spotify_client.search(q=q, type='track', limit=1)\n",
    "    \n",
    "    if len(result['tracks']['items']) == 1:\n",
    "        track_id = result['tracks']['items'][0]['id']\n",
    "        name = result['tracks']['items'][0]['name']\n",
    "        artist = result['tracks']['items'][0]['artists'][0]['name']\n",
    "        \n",
    "        play_data_with_id[track_id] = {\n",
    "            'id':  track_id,\n",
    "            'name': name,\n",
    "            'artist': artist,\n",
    "            'plays': play[1]\n",
    "        }"
   ]
  },
  {
   "cell_type": "code",
   "execution_count": 14,
   "metadata": {},
   "outputs": [
    {
     "data": {
      "text/plain": [
       "{'67CfbIKKTCKFqmQLJwUftX': {'id': '67CfbIKKTCKFqmQLJwUftX',\n",
       "  'name': \"Ella, elle l'a - Remasterisé\",\n",
       "  'artist': 'France Gall',\n",
       "  'plays': 2},\n",
       " '1zLJktzNI18DO9MPFI6iCW': {'id': '1zLJktzNI18DO9MPFI6iCW',\n",
       "  'name': 'Get Down',\n",
       "  'artist': 'Junglepussy',\n",
       "  'plays': 1},\n",
       " '4AZVT4epcaUxsAoGl1o1nE': {'id': '4AZVT4epcaUxsAoGl1o1nE',\n",
       "  'name': 'State of the Union',\n",
       "  'artist': 'Junglepussy',\n",
       "  'plays': 1},\n",
       " '4IdMRBuYw4qyrKClsvIAK9': {'id': '4IdMRBuYw4qyrKClsvIAK9',\n",
       "  'name': 'Jammin That Screw',\n",
       "  'artist': 'Trae Tha Truth',\n",
       "  'plays': 5},\n",
       " '3dX6WDwnHwYzB5t754oB4T': {'id': '3dX6WDwnHwYzB5t754oB4T',\n",
       "  'name': 'Insomnia - Radio Edit',\n",
       "  'artist': 'Faithless',\n",
       "  'plays': 9},\n",
       " '2pHRKegE8YjSv0SWO07R7Z': {'id': '2pHRKegE8YjSv0SWO07R7Z',\n",
       "  'name': 'God Is a DJ - Radio Mix',\n",
       "  'artist': 'Faithless',\n",
       "  'plays': 2},\n",
       " '29jPmPUIHfd8CoPEOOJ8Gg': {'id': '29jPmPUIHfd8CoPEOOJ8Gg',\n",
       "  'name': 'Everybody',\n",
       "  'artist': 'DJ Bobo',\n",
       "  'plays': 6},\n",
       " '4t0UsYzmmmZRMTWn77jiGF': {'id': '4t0UsYzmmmZRMTWn77jiGF',\n",
       "  'name': 'Show Me Love',\n",
       "  'artist': 'Robin S',\n",
       "  'plays': 1},\n",
       " '0KnZ3Fgnqjmz4Sl2OA5zwa': {'id': '0KnZ3Fgnqjmz4Sl2OA5zwa',\n",
       "  'name': \"La Copa de la Vida (La Cancion Oficial de la Copa Mundial, Francia '98) - Spanglish Radio Edit\",\n",
       "  'artist': 'Ricky Martin',\n",
       "  'plays': 1},\n",
       " '4qAu9FbxaULlca8tvHI8Tl': {'id': '4qAu9FbxaULlca8tvHI8Tl',\n",
       "  'name': 'Sonic Empire - Short Mix',\n",
       "  'artist': 'Members Of Mayday',\n",
       "  'plays': 1}}"
      ]
     },
     "execution_count": 14,
     "metadata": {},
     "output_type": "execute_result"
    }
   ],
   "source": [
    "play_data_with_id"
   ]
  },
  {
   "cell_type": "code",
   "execution_count": null,
   "metadata": {},
   "outputs": [],
   "source": []
  }
 ],
 "metadata": {
  "kernelspec": {
   "display_name": "Python 3",
   "language": "python",
   "name": "python3"
  },
  "language_info": {
   "codemirror_mode": {
    "name": "ipython",
    "version": 3
   },
   "file_extension": ".py",
   "mimetype": "text/x-python",
   "name": "python",
   "nbconvert_exporter": "python",
   "pygments_lexer": "ipython3",
   "version": "3.6.5"
  }
 },
 "nbformat": 4,
 "nbformat_minor": 2
}
